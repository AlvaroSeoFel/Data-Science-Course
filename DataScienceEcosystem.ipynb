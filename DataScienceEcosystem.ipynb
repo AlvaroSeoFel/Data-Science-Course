{
 "cells": [
  {
   "cell_type": "markdown",
   "id": "9a0548e6-7357-4efc-b836-e97726cfb3ea",
   "metadata": {},
   "source": [
    "# Data Science Tools and Ecosystem"
   ]
  },
  {
   "cell_type": "markdown",
   "id": "fef82986-69c2-464d-80e5-cbe4e867b97a",
   "metadata": {},
   "source": [
    "In this notebook, Data Science Tools and Ecosystem are summarized"
   ]
  },
  {
   "cell_type": "markdown",
   "id": "c477d2ed-c87b-4bbc-85ff-930fdfa8cbda",
   "metadata": {},
   "source": [
    "Some of the popular languages that Data Scientists use are:\n",
    "1. Python\n",
    "2. R\n",
    "3. C++\n",
    "4. C"
   ]
  },
  {
   "cell_type": "markdown",
   "id": "945c6019-74ae-4eb3-a705-470b941210dc",
   "metadata": {},
   "source": [
    "Some of the commonly used libraries used by data scientists are:\n",
    "1. Pandas\n",
    "2. NumPy\n",
    "3. Matplotlib\n",
    "4. SciPy"
   ]
  },
  {
   "cell_type": "markdown",
   "id": "a88bbd87-6890-4d09-89dd-cb9d99c7a7ce",
   "metadata": {},
   "source": [
    "|\"Data Science Tools\"|\n",
    "|------|\n",
    "|\"Jupyter Notebooks\"|\n",
    "|\"RStudio\"|\n",
    "|\"Visual Studio Code\"|"
   ]
  },
  {
   "cell_type": "markdown",
   "id": "fd1ea347-bf07-49a6-8e80-d61fb12a0451",
   "metadata": {},
   "source": [
    "### Below are a few examples of evaluating arithmetic expressions in Python"
   ]
  },
  {
   "cell_type": "code",
   "execution_count": 11,
   "id": "73ad1f89-19ff-4313-aa1f-b0a5afec218f",
   "metadata": {},
   "outputs": [
    {
     "data": {
      "text/plain": [
       "17"
      ]
     },
     "execution_count": 11,
     "metadata": {},
     "output_type": "execute_result"
    }
   ],
   "source": [
    "# This a simple arithmetic expression to mutiply then add integers\n",
    "(3*4)+5"
   ]
  },
  {
   "cell_type": "code",
   "execution_count": 12,
   "id": "87461c99-7dec-4c1e-97c2-65495f9de7d6",
   "metadata": {},
   "outputs": [
    {
     "data": {
      "text/plain": [
       "3.3333333333333335"
      ]
     },
     "execution_count": 12,
     "metadata": {},
     "output_type": "execute_result"
    }
   ],
   "source": [
    "#This will convert 200 minutes to hours by diving by 60\n",
    "200/60"
   ]
  },
  {
   "cell_type": "markdown",
   "id": "ea66be89-1445-4f23-8afd-03f91a5438c8",
   "metadata": {},
   "source": [
    "**Objectives:**\n",
    "- Know the most popular languages for Data Science\n",
    "- Learn about Git and Github for repositories\n",
    "- Learn basic Python\n",
    "- Learn basic R\n",
    "- Learn about visualization tools"
   ]
  },
  {
   "cell_type": "markdown",
   "id": "f84cd6ec-f029-42e8-9ff1-796cc25a4dd4",
   "metadata": {},
   "source": [
    "## Author\n",
    "Alvaro Seoane Felgueiras"
   ]
  },
  {
   "cell_type": "code",
   "execution_count": null,
   "id": "5fde4ef6-1237-4642-9e8b-2bd79868a725",
   "metadata": {},
   "outputs": [],
   "source": []
  }
 ],
 "metadata": {
  "kernelspec": {
   "display_name": "Python 3 (ipykernel)",
   "language": "python",
   "name": "python3"
  },
  "language_info": {
   "codemirror_mode": {
    "name": "ipython",
    "version": 3
   },
   "file_extension": ".py",
   "mimetype": "text/x-python",
   "name": "python",
   "nbconvert_exporter": "python",
   "pygments_lexer": "ipython3",
   "version": "3.12.9"
  }
 },
 "nbformat": 4,
 "nbformat_minor": 5
}
